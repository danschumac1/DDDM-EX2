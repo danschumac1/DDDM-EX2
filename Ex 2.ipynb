{
 "cells": [
  {
   "cell_type": "markdown",
   "id": "e998d422",
   "metadata": {},
   "source": [
    "#### DA6213\n",
    "#### Exercise #2\n",
    "#### Name: ___Dan Schumacher___"
   ]
  },
  {
   "cell_type": "markdown",
   "id": "50a05cdf",
   "metadata": {},
   "source": [
    "__Having talked about privacy and big data, let’s see how US adult consumers feel about it.  This exercise utilizes the 2015 National Consumer Survey.  The data is available in Excel, SPSS and SAS formats.  You should be able to get at it from one of these forms and move it to whatever platform you want.  Here are the instructions for this exercise.__"
   ]
  },
  {
   "cell_type": "markdown",
   "id": "a65c0f42",
   "metadata": {},
   "source": [
    "___imports___"
   ]
  },
  {
   "cell_type": "code",
   "execution_count": 75,
   "id": "648054e4",
   "metadata": {},
   "outputs": [],
   "source": [
    "import pandas as pd\n",
    "import seaborn as sns\n",
    "import matplotlib.pyplot as plt\n",
    "from scipy import stats\n",
    "import numpy as np\n",
    "\n",
    "# my own functions\n",
    "from functions.home_brew import (\n",
    "    evaluate,\n",
    "    diagnostic_plots,\n",
    "    calculate_vif,\n",
    "    remove_high_vif_features,\n",
    "    plot_sensitivity_specificity,\n",
    "    aic_scorer,\n",
    "    select_model_by_aic,\n",
    "    calculate_cooks_distance,\n",
    "    logistic_regression_diagnostic_plots,\n",
    "    view_logistic_regression_coefficients\n",
    ")"
   ]
  },
  {
   "cell_type": "markdown",
   "id": "9f8e611b",
   "metadata": {},
   "source": [
    "___Load and peek at data___"
   ]
  },
  {
   "cell_type": "code",
   "execution_count": 52,
   "id": "cbf11e7e",
   "metadata": {},
   "outputs": [],
   "source": [
    "privacy_df = pd.read_excel('./data/privacy.xlsx')"
   ]
  },
  {
   "cell_type": "code",
   "execution_count": 53,
   "id": "7aa5aaf8",
   "metadata": {},
   "outputs": [
    {
     "data": {
      "text/plain": [
       "(25439, 4)"
      ]
     },
     "execution_count": 53,
     "metadata": {},
     "output_type": "execute_result"
    }
   ],
   "source": [
    "privacy_df.shape"
   ]
  },
  {
   "cell_type": "code",
   "execution_count": 54,
   "id": "f791a2b3",
   "metadata": {},
   "outputs": [
    {
     "data": {
      "text/plain": [
       "Index(['commodity', 'like_know', 'classic_coke', 'gender'], dtype='object')"
      ]
     },
     "execution_count": 54,
     "metadata": {},
     "output_type": "execute_result"
    }
   ],
   "source": [
    "privacy_df.columns"
   ]
  },
  {
   "cell_type": "code",
   "execution_count": 55,
   "id": "163c0ff6",
   "metadata": {},
   "outputs": [
    {
     "data": {
      "text/html": [
       "<div>\n",
       "<style scoped>\n",
       "    .dataframe tbody tr th:only-of-type {\n",
       "        vertical-align: middle;\n",
       "    }\n",
       "\n",
       "    .dataframe tbody tr th {\n",
       "        vertical-align: top;\n",
       "    }\n",
       "\n",
       "    .dataframe thead th {\n",
       "        text-align: right;\n",
       "    }\n",
       "</style>\n",
       "<table border=\"1\" class=\"dataframe\">\n",
       "  <thead>\n",
       "    <tr style=\"text-align: right;\">\n",
       "      <th></th>\n",
       "      <th>commodity</th>\n",
       "      <th>like_know</th>\n",
       "      <th>classic_coke</th>\n",
       "      <th>gender</th>\n",
       "    </tr>\n",
       "  </thead>\n",
       "  <tbody>\n",
       "    <tr>\n",
       "      <th>0</th>\n",
       "      <td>1.0</td>\n",
       "      <td>4.0</td>\n",
       "      <td>0</td>\n",
       "      <td>0</td>\n",
       "    </tr>\n",
       "  </tbody>\n",
       "</table>\n",
       "</div>"
      ],
      "text/plain": [
       "   commodity  like_know  classic_coke  gender\n",
       "0        1.0        4.0             0       0"
      ]
     },
     "execution_count": 55,
     "metadata": {},
     "output_type": "execute_result"
    }
   ],
   "source": [
    "privacy_df.head(1)"
   ]
  },
  {
   "cell_type": "code",
   "execution_count": 56,
   "id": "8dcba77c",
   "metadata": {},
   "outputs": [
    {
     "name": "stdout",
     "output_type": "stream",
     "text": [
      "<class 'pandas.core.frame.DataFrame'>\n",
      "RangeIndex: 25439 entries, 0 to 25438\n",
      "Data columns (total 4 columns):\n",
      " #   Column        Non-Null Count  Dtype  \n",
      "---  ------        --------------  -----  \n",
      " 0   commodity     23747 non-null  float64\n",
      " 1   like_know     23752 non-null  float64\n",
      " 2   classic_coke  25439 non-null  int64  \n",
      " 3   gender        25439 non-null  int64  \n",
      "dtypes: float64(2), int64(2)\n",
      "memory usage: 795.1 KB\n"
     ]
    }
   ],
   "source": [
    "privacy_df.info()"
   ]
  },
  {
   "cell_type": "markdown",
   "id": "b1a208f4",
   "metadata": {},
   "source": [
    "### 1.\tCreate a bar graph that displays the data for the variable commodity – this variable represents how consumers feel about their willingness to provide personal data for something of value.  What does the bar graph tell you in general?"
   ]
  },
  {
   "cell_type": "markdown",
   "id": "25195145",
   "metadata": {},
   "source": [
    "- This Bar graph shows us that most people have a mid to high willingness to provide their personal data in exchange for something of value. (Most frequent are commodity rating 3 and 4)"
   ]
  },
  {
   "cell_type": "code",
   "execution_count": 57,
   "id": "db090f44",
   "metadata": {},
   "outputs": [
    {
     "data": {
      "image/png": "[encoded data removed]",
      "text/plain": [
       "<Figure size 432x288 with 1 Axes>"
      ]
     },
     "metadata": {
      "needs_background": "light"
     },
     "output_type": "display_data"
    }
   ],
   "source": [
    "sns.countplot(x='commodity',data=privacy_df, palette='Set2')\n",
    "plt.title('Frequency of Commodity Ratings')\n",
    "plt.xlabel('Commodity Rating')\n",
    "plt.ylabel('Frequency')\n",
    "plt.show()"
   ]
  },
  {
   "cell_type": "markdown",
   "id": "940b977e",
   "metadata": {},
   "source": [
    "### 2.\tCreate a bar graph that displays the data for the variable like_know – this variable represents the extent to which consumers would like to know how their data is being used.  What does the bar graph tell you in general?"
   ]
  },
  {
   "cell_type": "markdown",
   "id": "94c13576",
   "metadata": {},
   "source": [
    "- This graph shows us that most everyone wants to know how their data is being used. Very few people (1s and 2s) don't seem to mind very much."
   ]
  },
  {
   "cell_type": "code",
   "execution_count": 58,
   "id": "eb11f8d8",
   "metadata": {},
   "outputs": [
    {
     "data": {
      "image/png": "[encoded data removed]",
      "text/plain": [
       "<Figure size 432x288 with 1 Axes>"
      ]
     },
     "metadata": {
      "needs_background": "light"
     },
     "output_type": "display_data"
    }
   ],
   "source": [
    "sns.countplot(x='like_know',data=privacy_df, palette='Set2')\n",
    "plt.title('Frequency of Like-to-know Ratings')\n",
    "plt.xlabel('Like-to-know Ratings')\n",
    "plt.ylabel('Frequency')\n",
    "plt.show()"
   ]
  },
  {
   "cell_type": "markdown",
   "id": "d9f004c1",
   "metadata": {},
   "source": [
    "### 3.\tPerform the appropriate statistical test to see whether or not men and women differ in terms of how they feel about exchanging their personal data for something of value.  Interpret what you found – be sure to comment on the magnitude of any differences you find.\n"
   ]
  },
  {
   "cell_type": "markdown",
   "id": "ee7357ac",
   "metadata": {},
   "source": [
    "##### __check for normality__"
   ]
  },
  {
   "cell_type": "code",
   "execution_count": 70,
   "id": "aad14939",
   "metadata": {},
   "outputs": [],
   "source": [
    "privacy_df = privacy_df.dropna()"
   ]
  },
  {
   "cell_type": "code",
   "execution_count": 65,
   "id": "4d024b53",
   "metadata": {},
   "outputs": [],
   "source": [
    "women = privacy_df[privacy_df['gender'] == 0]['commodity']\n",
    "men = privacy_df[privacy_df['gender'] == 1]['commodity']"
   ]
  },
  {
   "cell_type": "code",
   "execution_count": 71,
   "id": "4cac44de",
   "metadata": {},
   "outputs": [
    {
     "name": "stdout",
     "output_type": "stream",
     "text": [
      "NULL: data comes from normaly distribution\n",
      "Statistics=0.8930721879005432, p=0.0\n",
      "reject H0: continue assuming non-normality\n"
     ]
    }
   ],
   "source": [
    "# Shapiro-Wilk Test: MEN\n",
    "print('NULL: data comes from normaly distribution')\n",
    "\n",
    "stat, p = stats.shapiro(men)\n",
    "print(f'Statistics={stat}, p={p}')\n",
    "\n",
    "\n",
    "# Interpret\n",
    "alpha = 0.05\n",
    "if p > alpha:\n",
    "    print('fail to reject H0: continue assuming normality')\n",
    "else:\n",
    "    print('reject H0: continue assuming non-normality')"
   ]
  },
  {
   "cell_type": "code",
   "execution_count": 72,
   "id": "e4380046",
   "metadata": {},
   "outputs": [
    {
     "name": "stdout",
     "output_type": "stream",
     "text": [
      "NULL: data comes from normaly distribution\n",
      "Statistics=0.8955949544906616.3f, p=0.0.3f\n",
      "reject H0: continue assuming non-normality\n"
     ]
    }
   ],
   "source": [
    "# Shapiro-Wilk Test: WOMEN\n",
    "\n",
    "print('NULL: data comes from normaly distribution')\n",
    "\n",
    "stat, p = stats.shapiro(women)\n",
    "print(f'Statistics={stat}.3f, p={p}.3f')\n",
    "\n",
    "# Interpret\n",
    "alpha = 0.05\n",
    "if p > alpha:\n",
    "    print('fail to reject H0: continue assuming normality')\n",
    "else:\n",
    "    print('reject H0: continue assuming non-normality')"
   ]
  },
  {
   "cell_type": "markdown",
   "id": "8782d001",
   "metadata": {},
   "source": [
    "##### run t-test"
   ]
  },
  {
   "cell_type": "code",
   "execution_count": 73,
   "id": "af6d862f",
   "metadata": {},
   "outputs": [
    {
     "name": "stdout",
     "output_type": "stream",
     "text": [
      "NULL: the means of two male and female samples are equal.\n",
      "T-Statistic: 4.9532180488345094\n",
      "P-Value: 7.350213466363999e-07\n",
      "Reject Null: The two means are not equal\n"
     ]
    }
   ],
   "source": [
    "from scipy.stats import ttest_ind\n",
    "\n",
    "# Null\n",
    "print('NULL: the means of two male and female samples are equal.')\n",
    "\n",
    "# Perform t-test\n",
    "t_statistic, p_value = ttest_ind(men, women)\n",
    "\n",
    "# Print results\n",
    "alpha = .05\n",
    "print(\"T-Statistic:\", t_statistic)\n",
    "print(\"P-Value:\", p_value)\n",
    "\n",
    "if p < alpha:\n",
    "    print('Reject Null: The two means are not equal')\n",
    "else:\n",
    "    print('Cannot reject Null')"
   ]
  },
  {
   "cell_type": "markdown",
   "id": "0e4af9fc",
   "metadata": {},
   "source": [
    "#### determine magnitude"
   ]
  },
  {
   "cell_type": "code",
   "execution_count": 79,
   "id": "ba26a8e1",
   "metadata": {},
   "outputs": [
    {
     "name": "stdout",
     "output_type": "stream",
     "text": [
      "Cohen's d: 0.06512535199950813\n"
     ]
    }
   ],
   "source": [
    "mean_diff = np.mean(men) - np.mean(women)\n",
    "pooled_std = np.sqrt((np.var(men) + np.var(women)) / 2)\n",
    "cohens_d = mean_diff / pooled_std\n",
    "\n",
    "print(\"Cohen's d:\", cohens_d)"
   ]
  },
  {
   "cell_type": "code",
   "execution_count": 68,
   "id": "e4b64e1d",
   "metadata": {},
   "outputs": [
    {
     "data": {
      "text/plain": [
       "23517"
      ]
     },
     "execution_count": 68,
     "metadata": {},
     "output_type": "execute_result"
    }
   ],
   "source": [
    "len(privacy_df)"
   ]
  },
  {
   "cell_type": "markdown",
   "id": "170c2549",
   "metadata": {},
   "source": [
    "### 4.\tPerform the appropriate statistical test to see whether or not people who drink coca cola differ in terms of how they feel about knowing how their data is being used.    Interpret what you found – be sure to comment on the magnitude of any differences you find."
   ]
  },
  {
   "cell_type": "code",
   "execution_count": 80,
   "id": "a78a8ea7",
   "metadata": {},
   "outputs": [],
   "source": [
    "coke = privacy_df[privacy_df['classic_coke'] == 1]\n",
    "no_coke = coke = privacy_df[privacy_df['classic_coke'] == 0]"
   ]
  },
  {
   "cell_type": "code",
   "execution_count": 84,
   "id": "e1221582",
   "metadata": {},
   "outputs": [
    {
     "name": "stdout",
     "output_type": "stream",
     "text": [
      "NULL: the means of the coke and non-coke samples are equal.\n",
      "T-Statistic: [ 0.  0. nan  0.]\n",
      "P-Value: [ 1.  1. nan  1.]\n",
      "Reject Null: The two means are not equal\n"
     ]
    }
   ],
   "source": [
    "# Null\n",
    "print('NULL: the means of the coke and non-coke samples are equal.')\n",
    "\n",
    "# Perform t-test\n",
    "t_statistic, p_value = ttest_ind(coke, no_coke)\n",
    "\n",
    "# Print results\n",
    "alpha = .05\n",
    "print(\"T-Statistic:\", t_statistic)\n",
    "print(\"P-Value:\", p_value)\n",
    "\n",
    "if p < alpha:\n",
    "    print('Reject Null: The two means are not equal')\n",
    "else:\n",
    "    print('Cannot reject Null')"
   ]
  },
  {
   "cell_type": "code",
   "execution_count": null,
   "id": "9c4f0a63",
   "metadata": {},
   "outputs": [],
   "source": []
  }
 ],
 "metadata": {
  "hide_input": false,
  "kernelspec": {
   "display_name": "Python 3 (ipykernel)",
   "language": "python",
   "name": "python3"
  },
  "language_info": {
   "codemirror_mode": {
    "name": "ipython",
    "version": 3
   },
   "file_extension": ".py",
   "mimetype": "text/x-python",
   "name": "python",
   "nbconvert_exporter": "python",
   "pygments_lexer": "ipython3",
   "version": "3.9.12"
  }
 },
 "nbformat": 4,
 "nbformat_minor": 5
}
