{
 "cells": [
  {
   "cell_type": "markdown",
   "id": "e998d422",
   "metadata": {},
   "source": [
    "#### DA6213\n",
    "#### Exercise #2\n",
    "#### Name: ___Dan Schumacher___"
   ]
  },
  {
   "cell_type": "markdown",
   "id": "50a05cdf",
   "metadata": {},
   "source": [
    "__Having talked about privacy and big data, let’s see how US adult consumers feel about it.  This exercise utilizes the 2015 National Consumer Survey.  The data is available in Excel, SPSS and SAS formats.  You should be able to get at it from one of these forms and move it to whatever platform you want.  Here are the instructions for this exercise.__"
   ]
  },
  {
   "cell_type": "markdown",
   "id": "a65c0f42",
   "metadata": {},
   "source": [
    "___imports___"
   ]
  },
  {
   "cell_type": "code",
   "execution_count": 4,
   "id": "648054e4",
   "metadata": {},
   "outputs": [],
   "source": [
    "import pandas as pd\n",
    "import seaborn as sns\n",
    "import matplotlib.pyplot as plt\n",
    "from scipy import stats\n",
    "import numpy as np\n",
    "from statsmodels.stats.multicomp import pairwise_tukeyhsd\n",
    "from IPython.display import IFrame\n",
    "\n",
    "# my own functions\n",
    "from functions.home_brew import (\n",
    "    evaluate,\n",
    "    diagnostic_plots,\n",
    "    calculate_vif,\n",
    "    remove_high_vif_features,\n",
    "    plot_sensitivity_specificity,\n",
    "    aic_scorer,\n",
    "    select_model_by_aic,\n",
    "    calculate_cooks_distance,\n",
    "    logistic_regression_diagnostic_plots,\n",
    "    view_logistic_regression_coefficients\n",
    ")"
   ]
  },
  {
   "cell_type": "markdown",
   "id": "9f8e611b",
   "metadata": {},
   "source": [
    "___Load and peek at data___"
   ]
  },
  {
   "cell_type": "code",
   "execution_count": 5,
   "id": "cbf11e7e",
   "metadata": {},
   "outputs": [],
   "source": [
    "privacy_df = pd.read_excel('./data/privacy.xlsx')"
   ]
  },
  {
   "cell_type": "code",
   "execution_count": 6,
   "id": "2e3ce160",
   "metadata": {},
   "outputs": [],
   "source": [
    "# this will look better\n",
    "gender_map = {1: 'Male', 0: 'Female'}\n",
    "privacy_df['gender'] = privacy_df['gender'].map(gender_map)\n",
    "\n",
    "coke_map = {1: 'Drink Coke', 0: 'No Coke'}\n",
    "privacy_df['classic_coke'] = privacy_df['classic_coke'].map(coke_map)"
   ]
  },
  {
   "cell_type": "code",
   "execution_count": 7,
   "id": "d05780ae",
   "metadata": {},
   "outputs": [
    {
     "data": {
      "text/html": [
       "<div>\n",
       "<style scoped>\n",
       "    .dataframe tbody tr th:only-of-type {\n",
       "        vertical-align: middle;\n",
       "    }\n",
       "\n",
       "    .dataframe tbody tr th {\n",
       "        vertical-align: top;\n",
       "    }\n",
       "\n",
       "    .dataframe thead th {\n",
       "        text-align: right;\n",
       "    }\n",
       "</style>\n",
       "<table border=\"1\" class=\"dataframe\">\n",
       "  <thead>\n",
       "    <tr style=\"text-align: right;\">\n",
       "      <th></th>\n",
       "      <th>commodity</th>\n",
       "      <th>like_know</th>\n",
       "      <th>classic_coke</th>\n",
       "      <th>gender</th>\n",
       "    </tr>\n",
       "  </thead>\n",
       "  <tbody>\n",
       "    <tr>\n",
       "      <th>0</th>\n",
       "      <td>1.0</td>\n",
       "      <td>4.0</td>\n",
       "      <td>No Coke</td>\n",
       "      <td>Female</td>\n",
       "    </tr>\n",
       "    <tr>\n",
       "      <th>1</th>\n",
       "      <td>3.0</td>\n",
       "      <td>4.0</td>\n",
       "      <td>Drink Coke</td>\n",
       "      <td>Female</td>\n",
       "    </tr>\n",
       "    <tr>\n",
       "      <th>2</th>\n",
       "      <td>2.0</td>\n",
       "      <td>3.0</td>\n",
       "      <td>Drink Coke</td>\n",
       "      <td>Female</td>\n",
       "    </tr>\n",
       "    <tr>\n",
       "      <th>3</th>\n",
       "      <td>4.0</td>\n",
       "      <td>5.0</td>\n",
       "      <td>Drink Coke</td>\n",
       "      <td>Female</td>\n",
       "    </tr>\n",
       "    <tr>\n",
       "      <th>4</th>\n",
       "      <td>4.0</td>\n",
       "      <td>4.0</td>\n",
       "      <td>Drink Coke</td>\n",
       "      <td>Male</td>\n",
       "    </tr>\n",
       "  </tbody>\n",
       "</table>\n",
       "</div>"
      ],
      "text/plain": [
       "   commodity  like_know classic_coke  gender\n",
       "0        1.0        4.0      No Coke  Female\n",
       "1        3.0        4.0   Drink Coke  Female\n",
       "2        2.0        3.0   Drink Coke  Female\n",
       "3        4.0        5.0   Drink Coke  Female\n",
       "4        4.0        4.0   Drink Coke    Male"
      ]
     },
     "execution_count": 7,
     "metadata": {},
     "output_type": "execute_result"
    }
   ],
   "source": [
    "privacy_df.head()"
   ]
  },
  {
   "cell_type": "code",
   "execution_count": 8,
   "id": "7aa5aaf8",
   "metadata": {},
   "outputs": [
    {
     "data": {
      "text/plain": [
       "(25439, 4)"
      ]
     },
     "execution_count": 8,
     "metadata": {},
     "output_type": "execute_result"
    }
   ],
   "source": [
    "privacy_df.shape"
   ]
  },
  {
   "cell_type": "code",
   "execution_count": 9,
   "id": "163c0ff6",
   "metadata": {},
   "outputs": [
    {
     "data": {
      "text/html": [
       "<div>\n",
       "<style scoped>\n",
       "    .dataframe tbody tr th:only-of-type {\n",
       "        vertical-align: middle;\n",
       "    }\n",
       "\n",
       "    .dataframe tbody tr th {\n",
       "        vertical-align: top;\n",
       "    }\n",
       "\n",
       "    .dataframe thead th {\n",
       "        text-align: right;\n",
       "    }\n",
       "</style>\n",
       "<table border=\"1\" class=\"dataframe\">\n",
       "  <thead>\n",
       "    <tr style=\"text-align: right;\">\n",
       "      <th></th>\n",
       "      <th>commodity</th>\n",
       "      <th>like_know</th>\n",
       "      <th>classic_coke</th>\n",
       "      <th>gender</th>\n",
       "    </tr>\n",
       "  </thead>\n",
       "  <tbody>\n",
       "    <tr>\n",
       "      <th>0</th>\n",
       "      <td>1.0</td>\n",
       "      <td>4.0</td>\n",
       "      <td>No Coke</td>\n",
       "      <td>Female</td>\n",
       "    </tr>\n",
       "  </tbody>\n",
       "</table>\n",
       "</div>"
      ],
      "text/plain": [
       "   commodity  like_know classic_coke  gender\n",
       "0        1.0        4.0      No Coke  Female"
      ]
     },
     "execution_count": 9,
     "metadata": {},
     "output_type": "execute_result"
    }
   ],
   "source": [
    "privacy_df.head(1)"
   ]
  },
  {
   "cell_type": "code",
   "execution_count": 10,
   "id": "f791a2b3",
   "metadata": {},
   "outputs": [
    {
     "data": {
      "text/plain": [
       "Index(['commodity', 'like_know', 'classic_coke', 'gender'], dtype='object')"
      ]
     },
     "execution_count": 10,
     "metadata": {},
     "output_type": "execute_result"
    }
   ],
   "source": [
    "privacy_df.columns"
   ]
  },
  {
   "cell_type": "code",
   "execution_count": 11,
   "id": "8dcba77c",
   "metadata": {},
   "outputs": [
    {
     "name": "stdout",
     "output_type": "stream",
     "text": [
      "<class 'pandas.core.frame.DataFrame'>\n",
      "RangeIndex: 25439 entries, 0 to 25438\n",
      "Data columns (total 4 columns):\n",
      " #   Column        Non-Null Count  Dtype  \n",
      "---  ------        --------------  -----  \n",
      " 0   commodity     23747 non-null  float64\n",
      " 1   like_know     23752 non-null  float64\n",
      " 2   classic_coke  25439 non-null  object \n",
      " 3   gender        25439 non-null  object \n",
      "dtypes: float64(2), object(2)\n",
      "memory usage: 795.1+ KB\n"
     ]
    }
   ],
   "source": [
    "privacy_df.info()"
   ]
  },
  {
   "cell_type": "markdown",
   "id": "b1a208f4",
   "metadata": {},
   "source": [
    "### 1.\tCreate a bar graph that displays the data for the variable commodity – this variable represents how consumers feel about their willingness to provide personal data for something of value.  What does the bar graph tell you in general?"
   ]
  },
  {
   "cell_type": "markdown",
   "id": "25195145",
   "metadata": {},
   "source": [
    "- This Bar graph shows us that most people have a mid to high willingness to provide their personal data in exchange for something of value. (Most frequent are commodity rating 3 and 4)"
   ]
  },
  {
   "cell_type": "code",
   "execution_count": 12,
   "id": "db090f44",
   "metadata": {},
   "outputs": [
    {
     "data": {
      "image/png": "[encoded data removed]",
      "text/plain": [
       "<Figure size 432x288 with 1 Axes>"
      ]
     },
     "metadata": {
      "needs_background": "light"
     },
     "output_type": "display_data"
    }
   ],
   "source": [
    "sns.countplot(x='commodity',data=privacy_df, palette='Set2')\n",
    "plt.title('Frequency of Commodity Ratings')\n",
    "plt.xlabel('Commodity Rating')\n",
    "plt.ylabel('Frequency')\n",
    "plt.show()"
   ]
  },
  {
   "cell_type": "markdown",
   "id": "940b977e",
   "metadata": {},
   "source": [
    "### 2.\tCreate a bar graph that displays the data for the variable like_know – this variable represents the extent to which consumers would like to know how their data is being used.  What does the bar graph tell you in general?"
   ]
  },
  {
   "cell_type": "markdown",
   "id": "94c13576",
   "metadata": {},
   "source": [
    "- This graph shows us that most everyone wants to know how their data is being used. Very few people (1s and 2s) don't seem to mind very much."
   ]
  },
  {
   "cell_type": "code",
   "execution_count": 13,
   "id": "eb11f8d8",
   "metadata": {},
   "outputs": [
    {
     "data": {
      "image/png": "[encoded data removed]",
      "text/plain": [
       "<Figure size 432x288 with 1 Axes>"
      ]
     },
     "metadata": {
      "needs_background": "light"
     },
     "output_type": "display_data"
    }
   ],
   "source": [
    "sns.countplot(x='like_know',data=privacy_df, palette='Set2')\n",
    "plt.title('Frequency of Like-to-know Ratings')\n",
    "plt.xlabel('Like-to-know Ratings')\n",
    "plt.ylabel('Frequency')\n",
    "plt.show()"
   ]
  },
  {
   "cell_type": "markdown",
   "id": "d9f004c1",
   "metadata": {},
   "source": [
    "### 3.\tPerform the appropriate statistical test to see whether or not men and women differ in terms of how they feel about exchanging their personal data for something of value.  Interpret what you found – be sure to comment on the magnitude of any differences you find.\n"
   ]
  },
  {
   "cell_type": "code",
   "execution_count": 14,
   "id": "0073cb2a",
   "metadata": {},
   "outputs": [
    {
     "data": {
      "text/html": [
       "\n",
       "        <iframe\n",
       "            width=\"700\"\n",
       "            height=\"551\"\n",
       "            src=\"./data/inf_test.pdf/\"\n",
       "            frameborder=\"0\"\n",
       "            allowfullscreen\n",
       "            \n",
       "        ></iframe>\n",
       "        "
      ],
      "text/plain": [
       "<IPython.lib.display.IFrame at 0x1e83ba92bb0>"
      ]
     },
     "execution_count": 14,
     "metadata": {},
     "output_type": "execute_result"
    }
   ],
   "source": [
    "# Display hand written\n",
    "pdf_path = './data/inf_test.pdf/'\n",
    "IFrame(pdf_path, width=700, height=551)"
   ]
  },
  {
   "cell_type": "markdown",
   "id": "7b537803",
   "metadata": {},
   "source": [
    "___prepare data for tests___"
   ]
  },
  {
   "cell_type": "code",
   "execution_count": 15,
   "id": "bdcbf2be",
   "metadata": {},
   "outputs": [],
   "source": [
    "# drop missing values.\n",
    "privacy_df = privacy_df.dropna()\n",
    "# shuffle the dataframe to insure it isn't ordered in a weird way\n",
    "privacy_df = privacy_df.sample(frac=1, random_state=27).reset_index(drop=True)"
   ]
  },
  {
   "cell_type": "code",
   "execution_count": 16,
   "id": "f9f4764d",
   "metadata": {},
   "outputs": [
    {
     "ename": "NameError",
     "evalue": "name 'women' is not defined",
     "output_type": "error",
     "traceback": [
      "\u001b[1;31m---------------------------------------------------------------------------\u001b[0m",
      "\u001b[1;31mNameError\u001b[0m                                 Traceback (most recent call last)",
      "Input \u001b[1;32mIn [16]\u001b[0m, in \u001b[0;36m<cell line: 1>\u001b[1;34m()\u001b[0m\n\u001b[1;32m----> 1\u001b[0m \u001b[43mwomen\u001b[49m\u001b[38;5;241m.\u001b[39mhead()\n",
      "\u001b[1;31mNameError\u001b[0m: name 'women' is not defined"
     ]
    }
   ],
   "source": [
    "women.head()"
   ]
  },
  {
   "cell_type": "code",
   "execution_count": 17,
   "id": "4d024b53",
   "metadata": {},
   "outputs": [],
   "source": [
    "#set seed for reproducibility\n",
    "np.random.seed(27)\n",
    "\n",
    "# grab just women\n",
    "women = privacy_df[privacy_df['gender'] == 'Female']['commodity']\n",
    "# sample random indexes\n",
    "wom_indx = np.random.randint(0, women.shape[0], 5000)\n",
    "# use those indexes to make a sampled dataframe\n",
    "women_samp = women.iloc[wom_indx]\n",
    "\n",
    "# REPEAT STEPS WITH MEN\n",
    "\n",
    "men = privacy_df[privacy_df['gender'] == 'Male']['commodity']\n",
    "men_indx = np.random.randint(0, men.shape[0], 5000)\n",
    "men_samp = men.iloc[men_indx]"
   ]
  },
  {
   "cell_type": "markdown",
   "id": "ee7357ac",
   "metadata": {},
   "source": [
    "##### __check for normality__"
   ]
  },
  {
   "cell_type": "code",
   "execution_count": 18,
   "id": "e4380046",
   "metadata": {},
   "outputs": [
    {
     "name": "stdout",
     "output_type": "stream",
     "text": [
      "NULL: WOMAN data comes from normaly distribution\n",
      "Statistics=0.892, p=0.000\n",
      "reject H0: continue assuming non-normality\n"
     ]
    }
   ],
   "source": [
    "# Shapiro-Wilk Test: WOMEN\n",
    "\n",
    "print('NULL: WOMAN data comes from normaly distribution')\n",
    "\n",
    "stat, p = stats.shapiro(women_samp)\n",
    "print(f'Statistics={stat:.3f}, p={p:.3f}')\n",
    "\n",
    "# Interpret\n",
    "alpha = 0.05\n",
    "if p > alpha:\n",
    "    print('fail to reject H0: continue assuming normality')\n",
    "else:\n",
    "    print('reject H0: continue assuming non-normality')"
   ]
  },
  {
   "cell_type": "code",
   "execution_count": 19,
   "id": "4cac44de",
   "metadata": {},
   "outputs": [
    {
     "name": "stdout",
     "output_type": "stream",
     "text": [
      "NULL: MEN data comes from normal distribution\n",
      "Statistics=0.889, p=0.0\n",
      "reject H0: continue assuming non-normality\n"
     ]
    }
   ],
   "source": [
    "# Shapiro-Wilk Test: MEN\n",
    "print('NULL: MEN data comes from normal distribution')\n",
    "\n",
    "stat, p = stats.shapiro(men_samp)\n",
    "print(f'Statistics={stat:.3f}, p={p:.3}')\n",
    "\n",
    "\n",
    "# Interpret\n",
    "alpha = 0.05\n",
    "if p > alpha:\n",
    "    print('fail to reject H0: continue assuming normality')\n",
    "else:\n",
    "    print('reject H0: continue assuming non-normality')"
   ]
  },
  {
   "cell_type": "markdown",
   "id": "86746cbb",
   "metadata": {},
   "source": [
    " ___Check for equal variance___"
   ]
  },
  {
   "cell_type": "code",
   "execution_count": 20,
   "id": "466f8883",
   "metadata": {},
   "outputs": [
    {
     "name": "stdout",
     "output_type": "stream",
     "text": [
      "Levene's test statistic: 5.079\n",
      "P-value: 0.0242\n",
      "Reject the null hypothesis: The variances are significantly different.\n"
     ]
    }
   ],
   "source": [
    "from scipy.stats import levene\n",
    "\n",
    "# Perform Levene's test\n",
    "statistic, p_value = levene(men_samp, women_samp)\n",
    "\n",
    "# Print results\n",
    "print(f\"Levene's test statistic: {statistic:.3f}\")\n",
    "print(f\"P-value: {p_value:.3}\")\n",
    "\n",
    "# Interpret the results\n",
    "if p_value < 0.05:\n",
    "    print(\"Reject the null hypothesis: The variances are significantly different.\")\n",
    "else:\n",
    "    print(\"Fail to reject the null hypothesis: There is no significant difference in variances.\")\n"
   ]
  },
  {
   "cell_type": "markdown",
   "id": "8782d001",
   "metadata": {},
   "source": [
    "##### Run Wilcoxen Rank Test (because non-normality and unequal variance)"
   ]
  },
  {
   "cell_type": "code",
   "execution_count": 21,
   "id": "94fa945f",
   "metadata": {},
   "outputs": [
    {
     "name": "stdout",
     "output_type": "stream",
     "text": [
      "Null: Men and Women are from the same distribution\n",
      "Mann-Whitney U test statistic: 7.06e+07\n",
      "P-value: 1.91e-06\n",
      "Reject the null hypothesis: The two men and women come from different distributions.\n"
     ]
    }
   ],
   "source": [
    "from scipy.stats import mannwhitneyu\n",
    "\n",
    "print('Null: Men and Women are from the same distribution')\n",
    "\n",
    "statistic, p_value = mannwhitneyu(men, women)\n",
    "\n",
    "# Print the results\n",
    "print(f\"Mann-Whitney U test statistic: {statistic:.3}\")\n",
    "print(f\"P-value: {p_value:.3}\")\n",
    "\n",
    "# Interpret the results\n",
    "if p_value < 0.05:\n",
    "    print(\"Reject the null hypothesis: The two men and women come from different distributions.\")\n",
    "else:\n",
    "    print(\"Fail to reject the null hypothesis: There is no evidence that populations have different distributions.\")\n"
   ]
  },
  {
   "cell_type": "markdown",
   "id": "0e4af9fc",
   "metadata": {},
   "source": [
    "#### determine magnitude"
   ]
  },
  {
   "cell_type": "code",
   "execution_count": 24,
   "id": "8a2bbaab",
   "metadata": {
    "scrolled": true
   },
   "outputs": [
    {
     "data": {
      "text/plain": [
       "0.0"
      ]
     },
     "execution_count": 24,
     "metadata": {},
     "output_type": "execute_result"
    }
   ],
   "source": [
    "np.median(men) - np.median(women)"
   ]
  },
  {
   "cell_type": "code",
   "execution_count": 22,
   "id": "c2e26f75",
   "metadata": {
    "scrolled": true
   },
   "outputs": [
    {
     "data": {
      "text/plain": [
       "0.07717363348359418"
      ]
     },
     "execution_count": 22,
     "metadata": {},
     "output_type": "execute_result"
    }
   ],
   "source": [
    "np.mean(men) - np.mean(women)"
   ]
  },
  {
   "cell_type": "markdown",
   "id": "fd454876",
   "metadata": {},
   "source": [
    "## not supposed to do this??"
   ]
  },
  {
   "cell_type": "code",
   "execution_count": 192,
   "id": "af6d862f",
   "metadata": {},
   "outputs": [
    {
     "name": "stdout",
     "output_type": "stream",
     "text": [
      "NULL: the means of two male and female samples are equal.\n",
      "T-Statistic: 4.97\n",
      "P-Value: 6.83e-07\n",
      "Reject Null: The two means are not equal\n"
     ]
    }
   ],
   "source": [
    "from scipy.stats import ttest_ind\n",
    "\n",
    "# Null\n",
    "print('NULL: the means of two male and female samples are equal.')\n",
    "\n",
    "# Perform t-test\n",
    "t_statistic, p_value = ttest_ind(men, women, equal_var=False)\n",
    "\n",
    "# Print results\n",
    "alpha = .05\n",
    "print(f\"T-Statistic: {t_statistic:.3}\")\n",
    "print(f\"P-Value: {p_value:.3}\")\n",
    "\n",
    "if p < alpha:\n",
    "    print('Reject Null: The two means are not equal')\n",
    "else:\n",
    "    print('Cannot reject Null')"
   ]
  },
  {
   "cell_type": "code",
   "execution_count": 193,
   "id": "f2dbd24f",
   "metadata": {},
   "outputs": [
    {
     "name": "stdout",
     "output_type": "stream",
     "text": [
      "Null: two means are the same\n",
      "Multiple Comparison of Means - Tukey HSD, FWER=0.05\n",
      "=================================================\n",
      "group1 group2 meandiff p-adj lower  upper  reject\n",
      "-------------------------------------------------\n",
      "Female   Male   0.0772   0.0 0.0466 0.1077   True\n",
      "-------------------------------------------------\n",
      "Reject Null: the two means are not equal\n",
      "The \n",
      "On average Females respond 0.0772 higher than their Male counterparts\n"
     ]
    }
   ],
   "source": [
    "#  or with tukey\n",
    "print('Null: two means are the same')\n",
    "\n",
    "tukey_result = pairwise_tukeyhsd(privacy_df['commodity'], privacy_df['gender'], alpha=0.05)\n",
    "print(tukey_result)\n",
    "\n",
    "p = tukey_result.pvalues[0]\n",
    "\n",
    "if p < alpha:\n",
    "    print('Reject Null: the two means are not equal')\n",
    "    print('The ')\n",
    "else:\n",
    "    print('Connot reject Null')\n",
    "    \n",
    "md = tukey_result.meandiffs[0]\n",
    "g1 = tukey_result.groupsunique[0]\n",
    "g2 =tukey_result.groupsunique[1]\n",
    "print(f'On average {g1}s respond {md:.3} higher than their {g2} counterparts')"
   ]
  },
  {
   "cell_type": "markdown",
   "id": "170c2549",
   "metadata": {},
   "source": [
    "### 4.\tPerform the appropriate statistical test to see whether or not people who drink coca cola differ in terms of how they feel about knowing how their data is being used.    Interpret what you found – be sure to comment on the magnitude of any differences you find."
   ]
  },
  {
   "cell_type": "markdown",
   "id": "7d65c921",
   "metadata": {},
   "source": [
    "___set up for test___"
   ]
  },
  {
   "cell_type": "code",
   "execution_count": 25,
   "id": "a78a8ea7",
   "metadata": {},
   "outputs": [],
   "source": [
    "coke_df = privacy_df[privacy_df['classic_coke'] == 'Drink Coke']\n",
    "no_coke_df = privacy_df[privacy_df['classic_coke'] == 'No Coke']"
   ]
  },
  {
   "cell_type": "code",
   "execution_count": 26,
   "id": "2c6d2b49",
   "metadata": {},
   "outputs": [],
   "source": [
    "#set seed for reproducibility\n",
    "np.random.seed(27)\n",
    "\n",
    "# grab just coke\n",
    "coke = privacy_df[privacy_df['classic_coke'] == 'Drink Coke']['like_know']\n",
    "# sample random indexes\n",
    "coke_indx = np.random.randint(0, women.shape[0], 5000)\n",
    "# use those indexes to make a sampled dataframe\n",
    "coke_samp = women.iloc[wom_indx]\n",
    "\n",
    "# REPEAT STEPS WITH NON-COKE\n",
    "\n",
    "no_coke = privacy_df[privacy_df['classic_coke'] == 'No Coke']['like_know']\n",
    "no_coke_indx = np.random.randint(0, men.shape[0], 5000)\n",
    "no_coke_samp = men.iloc[men_indx]"
   ]
  },
  {
   "cell_type": "markdown",
   "id": "0744b333",
   "metadata": {},
   "source": [
    "___check for normality___"
   ]
  },
  {
   "cell_type": "code",
   "execution_count": 27,
   "id": "29f9ee91",
   "metadata": {},
   "outputs": [
    {
     "name": "stdout",
     "output_type": "stream",
     "text": [
      "NULL: COKE data comes from normaly distribution\n",
      "Statistics=0.892, p=0.000\n",
      "reject H0: continue assuming non-normality\n"
     ]
    }
   ],
   "source": [
    "# Shapiro-Wilk Test: COKE\n",
    "\n",
    "print('NULL: COKE data comes from normaly distribution')\n",
    "\n",
    "stat, p = stats.shapiro(coke_samp)\n",
    "print(f'Statistics={stat:.3f}, p={p:.3f}')\n",
    "\n",
    "# Interpret\n",
    "alpha = 0.05\n",
    "if p > alpha:\n",
    "    print('fail to reject H0: continue assuming normality')\n",
    "else:\n",
    "    print('reject H0: continue assuming non-normality')"
   ]
  },
  {
   "cell_type": "code",
   "execution_count": 28,
   "id": "df765fec",
   "metadata": {},
   "outputs": [
    {
     "name": "stdout",
     "output_type": "stream",
     "text": [
      "NULL: NO-COKE data comes from normaly distribution\n",
      "Statistics=0.889, p=0.000\n",
      "reject H0: continue assuming non-normality\n"
     ]
    }
   ],
   "source": [
    "# Shapiro-Wilk Test: NO-COKE\n",
    "\n",
    "print('NULL: NO-COKE data comes from normaly distribution')\n",
    "\n",
    "stat, p = stats.shapiro(no_coke_samp)\n",
    "print(f'Statistics={stat:.3f}, p={p:.3f}')\n",
    "\n",
    "# Interpret\n",
    "alpha = 0.05\n",
    "if p > alpha:\n",
    "    print('fail to reject H0: continue assuming normality')\n",
    "else:\n",
    "    print('reject H0: continue assuming non-normality')"
   ]
  },
  {
   "cell_type": "markdown",
   "id": "54a790c8",
   "metadata": {},
   "source": [
    "Run Wilcoxen Rank Test (because non-normality and 2 groups)"
   ]
  },
  {
   "cell_type": "code",
   "execution_count": 29,
   "id": "e1221582",
   "metadata": {},
   "outputs": [
    {
     "name": "stdout",
     "output_type": "stream",
     "text": [
      "Null: Coke and No-Coke are from the same distribution\n",
      "Mann-Whitney U test statistic: 5.75e+07\n",
      "P-value: 0.00115\n",
      "Reject the null hypothesis: The coke and no-coke groups come from different distributions.\n"
     ]
    }
   ],
   "source": [
    "print('Null: Coke and No-Coke are from the same distribution')\n",
    "\n",
    "statistic, p_value = mannwhitneyu(coke, no_coke)\n",
    "\n",
    "# Print the results\n",
    "print(f\"Mann-Whitney U test statistic: {statistic:.3}\")\n",
    "print(f\"P-value: {p_value:.3}\")\n",
    "\n",
    "# Interpret the results\n",
    "if p_value < 0.05:\n",
    "    print(\"Reject the null hypothesis: The coke and no-coke groups come from different distributions.\")\n",
    "else:\n",
    "    print(\"Fail to reject the null hypothesis: There is no evidence that populations have different distributions.\")\n"
   ]
  },
  {
   "cell_type": "code",
   "execution_count": 32,
   "id": "c7edd42a",
   "metadata": {},
   "outputs": [
    {
     "data": {
      "text/plain": [
       "-0.03914883864047569"
      ]
     },
     "execution_count": 32,
     "metadata": {},
     "output_type": "execute_result"
    }
   ],
   "source": [
    "np.mean(coke) - np.mean(no_coke)"
   ]
  },
  {
   "cell_type": "markdown",
   "id": "7cef695e",
   "metadata": {},
   "source": [
    "## not supposed to do this??"
   ]
  },
  {
   "cell_type": "code",
   "execution_count": 30,
   "id": "e82b5736",
   "metadata": {},
   "outputs": [
    {
     "name": "stdout",
     "output_type": "stream",
     "text": [
      "NULL: the means of the coke and no-coke groups are equal.\n",
      "T-Statistic: -2.42\n",
      "P-Value: 0.0156\n",
      "Reject Null: The two means are not equal\n"
     ]
    }
   ],
   "source": [
    "from scipy.stats import ttest_ind\n",
    "\n",
    "# Null\n",
    "print('NULL: the means of the coke and no-coke groups are equal.')\n",
    "\n",
    "# Perform t-test\n",
    "t_statistic, p_value = ttest_ind(coke, no_coke, equal_var=False)\n",
    "\n",
    "# Print results\n",
    "alpha = .05\n",
    "print(f\"T-Statistic: {t_statistic:.3}\")\n",
    "print(f\"P-Value: {p_value:.3}\")\n",
    "\n",
    "if p < alpha:\n",
    "    print('Reject Null: The two means are not equal')\n",
    "else:\n",
    "    print('Cannot reject Null')"
   ]
  },
  {
   "cell_type": "code",
   "execution_count": 31,
   "id": "4a9435d3",
   "metadata": {},
   "outputs": [
    {
     "name": "stdout",
     "output_type": "stream",
     "text": [
      "Null: two means are the same\n",
      "  Multiple Comparison of Means - Tukey HSD, FWER=0.05  \n",
      "=======================================================\n",
      "  group1    group2 meandiff p-adj   lower  upper reject\n",
      "-------------------------------------------------------\n",
      "Drink Coke No Coke  -0.0189 0.2609 -0.0517 0.014  False\n",
      "-------------------------------------------------------\n",
      "Connot reject Null\n",
      "On average No Cokes respond 0.0189 higher than their Drink Coke counterparts\n"
     ]
    }
   ],
   "source": [
    "#  or with tukey\n",
    "print('Null: two means are the same')\n",
    "\n",
    "tukey_result = pairwise_tukeyhsd(privacy_df['commodity'], privacy_df['classic_coke'], alpha=0.05)\n",
    "print(tukey_result)\n",
    "\n",
    "p = tukey_result.pvalues[0]\n",
    "\n",
    "if p < alpha:\n",
    "    print('Reject Null: the two means are not equal')\n",
    "    print('The ')\n",
    "else:\n",
    "    print('Connot reject Null')\n",
    "    \n",
    "md = tukey_result.meandiffs[0]\n",
    "g1 = tukey_result.groupsunique[0]\n",
    "g2 =tukey_result.groupsunique[1]\n",
    "print(f'On average {g2}s respond {md * -1 :.3} higher than their {g1} counterparts')"
   ]
  },
  {
   "cell_type": "code",
   "execution_count": null,
   "id": "44cace28",
   "metadata": {},
   "outputs": [],
   "source": []
  }
 ],
 "metadata": {
  "hide_input": false,
  "kernelspec": {
   "display_name": "Python 3 (ipykernel)",
   "language": "python",
   "name": "python3"
  },
  "language_info": {
   "codemirror_mode": {
    "name": "ipython",
    "version": 3
   },
   "file_extension": ".py",
   "mimetype": "text/x-python",
   "name": "python",
   "nbconvert_exporter": "python",
   "pygments_lexer": "ipython3",
   "version": "3.9.12"
  }
 },
 "nbformat": 4,
 "nbformat_minor": 5
}
